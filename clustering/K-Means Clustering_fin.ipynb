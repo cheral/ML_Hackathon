{
 "cells": [
  {
   "cell_type": "markdown",
   "metadata": {},
   "source": [
    "<h1>K-Means Clustering</h1>\n"
   ]
  },
  {
   "cell_type": "code",
   "execution_count": 6,
   "metadata": {
    "collapsed": true
   },
   "outputs": [],
   "source": [
    "import pandas as pd\n",
    "import numpy as np\n",
    "import matplotlib.pyplot as plt\n",
    "import random\n",
    "from sklearn.cluster import KMeans"
   ]
  },
  {
   "cell_type": "markdown",
   "metadata": {},
   "source": [
    "<h6>Extracting the Latitude and Longitude features</h6>"
   ]
  },
  {
   "cell_type": "code",
   "execution_count": 7,
   "metadata": {
    "collapsed": false
   },
   "outputs": [
    {
     "name": "stdout",
     "output_type": "stream",
     "text": [
      "[[-122.3995877    37.73505101]\n",
      " [-122.39152289   37.73243239]\n",
      " [-122.42600195   37.79221244]\n",
      " ..., \n",
      " [-122.44541822   37.7120748 ]\n",
      " [-122.38739412   37.73947927]\n",
      " [-122.48971397   37.73394977]]\n"
     ]
    }
   ],
   "source": [
    "fields = ['X','Y']\n",
    "df = pd.read_csv('test.csv', usecols = fields)\n",
    "numpyMatrix = df.as_matrix()\n",
    "print (numpyMatrix)"
   ]
  },
  {
   "cell_type": "markdown",
   "metadata": {},
   "source": [
    "<h6>Scaling Features </h6>"
   ]
  },
  {
   "cell_type": "code",
   "execution_count": 8,
   "metadata": {
    "collapsed": false
   },
   "outputs": [
    {
     "name": "stdout",
     "output_type": "stream",
     "text": [
      "[[ 39.95877042  73.50510104]\n",
      " [ 39.1522893   73.24323864]\n",
      " [ 42.6001955   79.22124386]\n",
      " ..., \n",
      " [ 44.54182238  71.20747966]\n",
      " [ 38.73941232  73.94792693]\n",
      " [ 48.97139691  73.39497681]]\n"
     ]
    }
   ],
   "source": [
    "for i in range(len(numpyMatrix)):\n",
    "\tx = numpyMatrix[i][0]\n",
    "\tx *= (-1)\n",
    "\tx %= 122\n",
    "\tx *= 100\n",
    "\tnumpyMatrix[i][0] = x\n",
    "\n",
    "\ty = numpyMatrix[i][1]\n",
    "\ty %= 37\n",
    "\ty *= 100\n",
    "\tnumpyMatrix[i][1] = y\n",
    "print (numpyMatrix)"
   ]
  },
  {
   "cell_type": "markdown",
   "metadata": {},
   "source": [
    "<h6>Setting limits of the graph</h6>"
   ]
  },
  {
   "cell_type": "code",
   "execution_count": 9,
   "metadata": {
    "collapsed": false
   },
   "outputs": [
    {
     "data": {
      "text/plain": [
       "(70, 82.5)"
      ]
     },
     "execution_count": 9,
     "metadata": {},
     "output_type": "execute_result"
    }
   ],
   "source": [
    "plt.xlim(37.5, 52.5)\n",
    "plt.ylim(70, 82.5)"
   ]
  },
  {
   "cell_type": "markdown",
   "metadata": {},
   "source": [
    "<h6>Setting Labels</h6>"
   ]
  },
  {
   "cell_type": "code",
   "execution_count": 10,
   "metadata": {
    "collapsed": false
   },
   "outputs": [
    {
     "data": {
      "text/plain": [
       "<matplotlib.text.Text at 0x7fb36371b7b8>"
      ]
     },
     "execution_count": 10,
     "metadata": {},
     "output_type": "execute_result"
    }
   ],
   "source": [
    "plt.xlabel('Latitude')\n",
    "plt.ylabel('Longitude')"
   ]
  },
  {
   "cell_type": "markdown",
   "metadata": {},
   "source": [
    "<h6>Fitting the model</h6>"
   ]
  },
  {
   "cell_type": "code",
   "execution_count": 11,
   "metadata": {
    "collapsed": false
   },
   "outputs": [
    {
     "data": {
      "text/plain": [
       "KMeans(algorithm='auto', copy_x=True, init='k-means++', max_iter=300,\n",
       "    n_clusters=10, n_init=10, n_jobs=1, precompute_distances='auto',\n",
       "    random_state=56, tol=0.0001, verbose=0)"
      ]
     },
     "execution_count": 11,
     "metadata": {},
     "output_type": "execute_result"
    }
   ],
   "source": [
    "kmeans = KMeans(init = 'k-means++', n_clusters = 10, random_state = 56)\n",
    "kmeans.fit(numpyMatrix)\n"
   ]
  },
  {
   "cell_type": "markdown",
   "metadata": {},
   "source": [
    "<h6>Printing Cluster Centers</h6>"
   ]
  },
  {
   "cell_type": "code",
   "execution_count": 12,
   "metadata": {
    "collapsed": false
   },
   "outputs": [
    {
     "name": "stdout",
     "output_type": "stream",
     "text": [
      "Printing Cluster Centers:\n",
      "[[    42.82660648     78.7330491 ]\n",
      " [ 12050.           1600.        ]\n",
      " [    42.1688556      72.39920951]\n",
      " [    48.99413117     75.97389272]\n",
      " [    41.83434515     75.90840495]\n",
      " [    40.4360745      79.62375104]\n",
      " [    40.91580185     78.07838776]\n",
      " [    39.14866152     73.3408716 ]\n",
      " [    45.81744144     72.27487452]\n",
      " [    45.31746213     77.21013721]]\n"
     ]
    }
   ],
   "source": [
    "print('Printing Cluster Centers:')\n",
    "print(kmeans.cluster_centers_)"
   ]
  },
  {
   "cell_type": "markdown",
   "metadata": {},
   "source": [
    "<h6>Plotting clusters and centroids</h6>"
   ]
  },
  {
   "cell_type": "code",
   "execution_count": 13,
   "metadata": {
    "collapsed": false
   },
   "outputs": [
    {
     "data": {
      "image/png": "[encoded data removed]",
      "text/plain": [
       "<matplotlib.figure.Figure at 0x7fb3636ee588>"
      ]
     },
     "metadata": {},
     "output_type": "display_data"
    }
   ],
   "source": [
    "colors = [i for i in kmeans.labels_]\n",
    "plt.scatter(numpyMatrix[:,0], numpyMatrix[:,1], s = 5, c = colors)\n",
    "centroids = kmeans.cluster_centers_\n",
    "plt.scatter(centroids[:, 0], centroids[:, 1],marker='x', s=169, linewidths=3,color='black', zorder=10)\n",
    "plt.title('K-Means Clustering')\n",
    "plt.figure(1)\n",
    "plt.show()"
   ]
  }
 ],
 "metadata": {
  "anaconda-cloud": {},
  "kernelspec": {
   "display_name": "Python [default]",
   "language": "python",
   "name": "python2"
  },
  "language_info": {
   "codemirror_mode": {
    "name": "ipython",
    "version": 2
   },
   "file_extension": ".py",
   "mimetype": "text/x-python",
   "name": "python",
   "nbconvert_exporter": "python",
   "pygments_lexer": "ipython2",
   "version": "2.7.12"
  }
 },
 "nbformat": 4,
 "nbformat_minor": 2
}
